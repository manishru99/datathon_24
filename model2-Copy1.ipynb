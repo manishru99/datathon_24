{
 "cells": [
  {
   "cell_type": "code",
   "execution_count": 25,
   "id": "6a3b18ba",
   "metadata": {},
   "outputs": [],
   "source": [
    "import pandas as pd\n",
    "from sklearn.feature_extraction.text import TfidfVectorizer\n",
    "from sklearn.model_selection import train_test_split\n",
    "from sklearn.linear_model import LogisticRegression\n",
    "from sklearn.metrics import accuracy_score, classification_report\n",
    "import re\n",
    "import nltk\n",
    "from nltk.corpus import stopwords\n",
    "from nltk.stem import WordNetLemmatizer\n",
    "from sklearn.feature_extraction.text import CountVectorizer\n",
    "from sklearn.preprocessing import StandardScaler\n",
    "from sklearn.compose import ColumnTransformer\n",
    "from sklearn.pipeline import Pipeline\n",
    "from sklearn.ensemble import RandomForestClassifier\n",
    "from sklearn.decomposition import TruncatedSVD\n",
    "from scipy.sparse import hstack"
   ]
  },
  {
   "cell_type": "code",
   "execution_count": 2,
   "id": "2d41c850",
   "metadata": {},
   "outputs": [],
   "source": [
    "#Data Loading and Preprocessing\n",
    "data = pd.read_csv(\"checkworthiness_labeled.csv\")  \n",
    "\n"
   ]
  },
  {
   "cell_type": "code",
   "execution_count": 3,
   "id": "d31adc7f",
   "metadata": {
    "scrolled": true
   },
   "outputs": [
    {
     "data": {
      "text/html": [
       "<div>\n",
       "<style scoped>\n",
       "    .dataframe tbody tr th:only-of-type {\n",
       "        vertical-align: middle;\n",
       "    }\n",
       "\n",
       "    .dataframe tbody tr th {\n",
       "        vertical-align: top;\n",
       "    }\n",
       "\n",
       "    .dataframe thead th {\n",
       "        text-align: right;\n",
       "    }\n",
       "</style>\n",
       "<table border=\"1\" class=\"dataframe\">\n",
       "  <thead>\n",
       "    <tr style=\"text-align: right;\">\n",
       "      <th></th>\n",
       "      <th>ID</th>\n",
       "      <th>Text</th>\n",
       "      <th>Category</th>\n",
       "    </tr>\n",
       "  </thead>\n",
       "  <tbody>\n",
       "    <tr>\n",
       "      <th>0</th>\n",
       "      <td>16</td>\n",
       "      <td>I think we've seen a deterioration of values.</td>\n",
       "      <td>No</td>\n",
       "    </tr>\n",
       "    <tr>\n",
       "      <th>1</th>\n",
       "      <td>17</td>\n",
       "      <td>I think for a while as a nation we condoned th...</td>\n",
       "      <td>No</td>\n",
       "    </tr>\n",
       "    <tr>\n",
       "      <th>2</th>\n",
       "      <td>20</td>\n",
       "      <td>We got away, we got into this feeling that val...</td>\n",
       "      <td>No</td>\n",
       "    </tr>\n",
       "    <tr>\n",
       "      <th>3</th>\n",
       "      <td>21</td>\n",
       "      <td>And I don't believe that at all I do believe t...</td>\n",
       "      <td>No</td>\n",
       "    </tr>\n",
       "    <tr>\n",
       "      <th>4</th>\n",
       "      <td>22</td>\n",
       "      <td>And, of course, as far as the how we make it b...</td>\n",
       "      <td>No</td>\n",
       "    </tr>\n",
       "  </tbody>\n",
       "</table>\n",
       "</div>"
      ],
      "text/plain": [
       "   ID                                               Text Category\n",
       "0  16      I think we've seen a deterioration of values.       No\n",
       "1  17  I think for a while as a nation we condoned th...       No\n",
       "2  20  We got away, we got into this feeling that val...       No\n",
       "3  21  And I don't believe that at all I do believe t...       No\n",
       "4  22  And, of course, as far as the how we make it b...       No"
      ]
     },
     "execution_count": 3,
     "metadata": {},
     "output_type": "execute_result"
    }
   ],
   "source": [
    "data.head()"
   ]
  },
  {
   "cell_type": "code",
   "execution_count": 4,
   "id": "3b0f6cbb",
   "metadata": {},
   "outputs": [
    {
     "data": {
      "text/plain": [
       "ID          0\n",
       "Text        0\n",
       "Category    0\n",
       "dtype: int64"
      ]
     },
     "execution_count": 4,
     "metadata": {},
     "output_type": "execute_result"
    }
   ],
   "source": [
    "missing_values = data.isnull().sum()\n",
    "missing_values"
   ]
  },
  {
   "cell_type": "code",
   "execution_count": 5,
   "id": "e25be802",
   "metadata": {},
   "outputs": [
    {
     "data": {
      "text/plain": [
       "8993"
      ]
     },
     "execution_count": 5,
     "metadata": {},
     "output_type": "execute_result"
    }
   ],
   "source": [
    "data.shape[0]"
   ]
  },
  {
   "cell_type": "code",
   "execution_count": null,
   "id": "24a336b0",
   "metadata": {},
   "outputs": [],
   "source": []
  },
  {
   "cell_type": "code",
   "execution_count": null,
   "id": "a8f9d966",
   "metadata": {},
   "outputs": [],
   "source": []
  },
  {
   "cell_type": "code",
   "execution_count": 6,
   "id": "bad26ea6",
   "metadata": {},
   "outputs": [],
   "source": [
    "# Data Preprocessing\n",
    "######\n",
    "def preprocess_text(text):\n",
    "    # lowercase\n",
    "    text = text.lower()  \n",
    "    # remove punctuation and special characters\n",
    "    text = re.sub(r\"[^a-z0-9\\s]\", \"\", text)  \n",
    "    # remove extra whitespace\n",
    "    text = re.sub(r\"\\s+\", \" \", text)  \n",
    "    return text\n",
    "\n",
    "data[\"Text\"] = data[\"Text\"].apply(preprocess_text)\n",
    "\n",
    "\n",
    "\n"
   ]
  },
  {
   "cell_type": "code",
   "execution_count": 7,
   "id": "3716f6a9",
   "metadata": {},
   "outputs": [],
   "source": [
    "stop_words = set(stopwords.words('english'))\n",
    "lemmatizer = WordNetLemmatizer()"
   ]
  },
  {
   "cell_type": "code",
   "execution_count": 18,
   "id": "f3542023",
   "metadata": {},
   "outputs": [],
   "source": [
    "def tokenize_and_lemmatize(text):\n",
    "    tokens = nltk.word_tokenize(text)\n",
    "    lemmas = [lemmatizer.lemmatize(token) for token in tokens if token not in stop_words]\n",
    "    return lemmas"
   ]
  },
  {
   "cell_type": "code",
   "execution_count": 19,
   "id": "fabed77e",
   "metadata": {},
   "outputs": [
    {
     "name": "stderr",
     "output_type": "stream",
     "text": [
      "C:\\Users\\manis\\anaconda3\\Lib\\site-packages\\sklearn\\feature_extraction\\text.py:525: UserWarning: The parameter 'token_pattern' will not be used since 'tokenizer' is not None'\n",
      "  warnings.warn(\n"
     ]
    }
   ],
   "source": [
    "#Feature Engineering\n",
    "# 3.1 TF-IDF Features\n",
    "#tfidf_vectorizer = TfidfVectorizer(max_features=2000, ngram_range=(1, 2))  # Consider unigrams and bigrams\n",
    "tfidf_vectorizer = TfidfVectorizer(tokenizer=tokenize_and_lemmatize, max_features=5000)\n",
    "tfidf_features = tfidf_vectorizer.fit_transform(data[\"Text\"])\n"
   ]
  },
  {
   "cell_type": "code",
   "execution_count": 10,
   "id": "dc83d615",
   "metadata": {},
   "outputs": [],
   "source": [
    "# 3.2 Count-Based Features (e.g., word count, punctuation count)\n",
    "'''def count_features(text):\n",
    "    word_count = len(text.split())\n",
    "    punctuation_count = len(re.findall(r\"[^\\w\\s]\", text))\n",
    "    return pd.Series({'word_count': word_count, 'punctuation_count': punctuation_count})\n",
    "\n",
    "count_features_df = data[\"Text\"].apply(count_features)\n",
    "'''\n"
   ]
  },
  {
   "cell_type": "code",
   "execution_count": 20,
   "id": "979d9524",
   "metadata": {},
   "outputs": [],
   "source": [
    "# Count Vectorizer Features (for N-grams)\n",
    "count_vectorizer = CountVectorizer(ngram_range=(1, 2), tokenizer=tokenize_and_lemmatize, max_features=3000)\n",
    "count_features = count_vectorizer.fit_transform(data[\"Text\"])"
   ]
  },
  {
   "cell_type": "code",
   "execution_count": null,
   "id": "6e67dd2f",
   "metadata": {},
   "outputs": [],
   "source": []
  },
  {
   "cell_type": "code",
   "execution_count": 26,
   "id": "814ce144",
   "metadata": {},
   "outputs": [],
   "source": [
    "# 3.3 Combine Features\n",
    "#X = pd.concat([count_features_df, pd.DataFrame(tfidf_vectorizer.fit_transform(data[\"Text\"]).toarray())], axis=1)\n",
    "#y = data[\"Category\"]\n",
    "# Combine TF-IDF and Count Features\n",
    "combined_features = hstack((tfidf_features, count_features))\n",
    "#combined_features = pd.SparseDataFrame.hstack((tfidf_features, count_features))"
   ]
  },
  {
   "cell_type": "code",
   "execution_count": 27,
   "id": "1b1b508f",
   "metadata": {},
   "outputs": [],
   "source": [
    "# Dimensionality Reduction (Optional)\n",
    "svd = TruncatedSVD(n_components=300)  # Adjust n_components as needed\n",
    "reduced_features = svd.fit_transform(combined_features)"
   ]
  },
  {
   "cell_type": "code",
   "execution_count": null,
   "id": "0b5dd28a",
   "metadata": {},
   "outputs": [],
   "source": []
  },
  {
   "cell_type": "code",
   "execution_count": null,
   "id": "32e32be7",
   "metadata": {},
   "outputs": [],
   "source": []
  },
  {
   "cell_type": "code",
   "execution_count": 28,
   "id": "4aa1d097",
   "metadata": {},
   "outputs": [],
   "source": [
    "# Feature Extraction\n",
    "#convert the raw text data into numerical features\n",
    "# Using TF-IDF for feature extraction\n",
    "#TF-IDF measures the importance of a word in a document relative to a collection of documents\n",
    "##vectorizer = TfidfVectorizer(max_features=1000)  \n",
    "#number of features is 1000 to reduce dimensionality of the feature space\n",
    "##X = vectorizer.fit_transform(data['Text'])\n",
    "##y = data['Category']\n"
   ]
  },
  {
   "cell_type": "code",
   "execution_count": 12,
   "id": "44b62478",
   "metadata": {},
   "outputs": [],
   "source": [
    "# Split the data into train and test sets\n",
    "X_train, X_test, y_train, y_test = train_test_split(X, y, test_size=0.2, random_state=42)\n",
    "\n"
   ]
  },
  {
   "cell_type": "code",
   "execution_count": 28,
   "id": "d2da5c4c",
   "metadata": {},
   "outputs": [
    {
     "data": {
      "text/html": [
       "<style>#sk-container-id-1 {color: black;}#sk-container-id-1 pre{padding: 0;}#sk-container-id-1 div.sk-toggleable {background-color: white;}#sk-container-id-1 label.sk-toggleable__label {cursor: pointer;display: block;width: 100%;margin-bottom: 0;padding: 0.3em;box-sizing: border-box;text-align: center;}#sk-container-id-1 label.sk-toggleable__label-arrow:before {content: \"▸\";float: left;margin-right: 0.25em;color: #696969;}#sk-container-id-1 label.sk-toggleable__label-arrow:hover:before {color: black;}#sk-container-id-1 div.sk-estimator:hover label.sk-toggleable__label-arrow:before {color: black;}#sk-container-id-1 div.sk-toggleable__content {max-height: 0;max-width: 0;overflow: hidden;text-align: left;background-color: #f0f8ff;}#sk-container-id-1 div.sk-toggleable__content pre {margin: 0.2em;color: black;border-radius: 0.25em;background-color: #f0f8ff;}#sk-container-id-1 input.sk-toggleable__control:checked~div.sk-toggleable__content {max-height: 200px;max-width: 100%;overflow: auto;}#sk-container-id-1 input.sk-toggleable__control:checked~label.sk-toggleable__label-arrow:before {content: \"▾\";}#sk-container-id-1 div.sk-estimator input.sk-toggleable__control:checked~label.sk-toggleable__label {background-color: #d4ebff;}#sk-container-id-1 div.sk-label input.sk-toggleable__control:checked~label.sk-toggleable__label {background-color: #d4ebff;}#sk-container-id-1 input.sk-hidden--visually {border: 0;clip: rect(1px 1px 1px 1px);clip: rect(1px, 1px, 1px, 1px);height: 1px;margin: -1px;overflow: hidden;padding: 0;position: absolute;width: 1px;}#sk-container-id-1 div.sk-estimator {font-family: monospace;background-color: #f0f8ff;border: 1px dotted black;border-radius: 0.25em;box-sizing: border-box;margin-bottom: 0.5em;}#sk-container-id-1 div.sk-estimator:hover {background-color: #d4ebff;}#sk-container-id-1 div.sk-parallel-item::after {content: \"\";width: 100%;border-bottom: 1px solid gray;flex-grow: 1;}#sk-container-id-1 div.sk-label:hover label.sk-toggleable__label {background-color: #d4ebff;}#sk-container-id-1 div.sk-serial::before {content: \"\";position: absolute;border-left: 1px solid gray;box-sizing: border-box;top: 0;bottom: 0;left: 50%;z-index: 0;}#sk-container-id-1 div.sk-serial {display: flex;flex-direction: column;align-items: center;background-color: white;padding-right: 0.2em;padding-left: 0.2em;position: relative;}#sk-container-id-1 div.sk-item {position: relative;z-index: 1;}#sk-container-id-1 div.sk-parallel {display: flex;align-items: stretch;justify-content: center;background-color: white;position: relative;}#sk-container-id-1 div.sk-item::before, #sk-container-id-1 div.sk-parallel-item::before {content: \"\";position: absolute;border-left: 1px solid gray;box-sizing: border-box;top: 0;bottom: 0;left: 50%;z-index: -1;}#sk-container-id-1 div.sk-parallel-item {display: flex;flex-direction: column;z-index: 1;position: relative;background-color: white;}#sk-container-id-1 div.sk-parallel-item:first-child::after {align-self: flex-end;width: 50%;}#sk-container-id-1 div.sk-parallel-item:last-child::after {align-self: flex-start;width: 50%;}#sk-container-id-1 div.sk-parallel-item:only-child::after {width: 0;}#sk-container-id-1 div.sk-dashed-wrapped {border: 1px dashed gray;margin: 0 0.4em 0.5em 0.4em;box-sizing: border-box;padding-bottom: 0.4em;background-color: white;}#sk-container-id-1 div.sk-label label {font-family: monospace;font-weight: bold;display: inline-block;line-height: 1.2em;}#sk-container-id-1 div.sk-label-container {text-align: center;}#sk-container-id-1 div.sk-container {/* jupyter's `normalize.less` sets `[hidden] { display: none; }` but bootstrap.min.css set `[hidden] { display: none !important; }` so we also need the `!important` here to be able to override the default hidden behavior on the sphinx rendered scikit-learn.org. See: https://github.com/scikit-learn/scikit-learn/issues/21755 */display: inline-block !important;position: relative;}#sk-container-id-1 div.sk-text-repr-fallback {display: none;}</style><div id=\"sk-container-id-1\" class=\"sk-top-container\"><div class=\"sk-text-repr-fallback\"><pre>RandomForestClassifier(random_state=42)</pre><b>In a Jupyter environment, please rerun this cell to show the HTML representation or trust the notebook. <br />On GitHub, the HTML representation is unable to render, please try loading this page with nbviewer.org.</b></div><div class=\"sk-container\" hidden><div class=\"sk-item\"><div class=\"sk-estimator sk-toggleable\"><input class=\"sk-toggleable__control sk-hidden--visually\" id=\"sk-estimator-id-1\" type=\"checkbox\" checked><label for=\"sk-estimator-id-1\" class=\"sk-toggleable__label sk-toggleable__label-arrow\">RandomForestClassifier</label><div class=\"sk-toggleable__content\"><pre>RandomForestClassifier(random_state=42)</pre></div></div></div></div></div>"
      ],
      "text/plain": [
       "RandomForestClassifier(random_state=42)"
      ]
     },
     "execution_count": 28,
     "metadata": {},
     "output_type": "execute_result"
    }
   ],
   "source": [
    "# Model Training\n",
    "#binary classification\n",
    "X_train, X_test, y_train, y_test = train_test_split(reduced_features, data[\"Category\"], test_size=0.2, random_state=42)\n",
    "model = RandomForestClassifier(n_estimators=100, random_state=42)\n",
    "model.fit(X_train, y_train)\n",
    "\n"
   ]
  },
  {
   "cell_type": "code",
   "execution_count": 29,
   "id": "2216f0c3",
   "metadata": {},
   "outputs": [
    {
     "name": "stdout",
     "output_type": "stream",
     "text": [
      "Accuracy: 0.8232351306281267\n",
      "Classification Report:\n",
      "              precision    recall  f1-score   support\n",
      "\n",
      "          No       0.83      0.98      0.90      1414\n",
      "         Yes       0.79      0.24      0.37       385\n",
      "\n",
      "    accuracy                           0.82      1799\n",
      "   macro avg       0.81      0.61      0.63      1799\n",
      "weighted avg       0.82      0.82      0.78      1799\n",
      "\n"
     ]
    }
   ],
   "source": [
    "# Evaluation\n",
    "y_pred = model.predict(X_test)\n",
    "accuracy = accuracy_score(y_test, y_pred)\n",
    "print(\"Accuracy:\", accuracy)\n",
    "print(\"Classification Report:\")\n",
    "print(classification_report(y_test, y_pred))\n",
    "\n"
   ]
  },
  {
   "cell_type": "code",
   "execution_count": 31,
   "id": "c4e22173",
   "metadata": {},
   "outputs": [],
   "source": [
    "# Prediction\n",
    "predict_data = pd.read_csv(\"checkworthiness_leaderboard.csv\")  # Load the data for prediction"
   ]
  },
  {
   "cell_type": "code",
   "execution_count": 32,
   "id": "f3782009",
   "metadata": {},
   "outputs": [],
   "source": [
    "# Preprocess the text data in the 'predict.csv' file\n",
    "predict_data[\"Text\"] = predict_data[\"Text\"].apply(preprocess_text)\n",
    "\n",
    "# Apply feature engineering to the new data\n",
    "predict_tfidf_features = tfidf_vectorizer.transform(predict_data[\"Text\"])\n",
    "predict_count_features = count_vectorizer.transform(predict_data[\"Text\"])\n",
    "predict_combined_features = hstack((predict_tfidf_features, predict_count_features))\n",
    "predict_reduced_features = svd.transform(predict_combined_features)  # Apply dimensionality reduction\n",
    "\n",
    "# Make predictions\n",
    "predictions = model.predict(predict_reduced_features)\n",
    "\n"
   ]
  },
  {
   "cell_type": "code",
   "execution_count": null,
   "id": "e8c4a461",
   "metadata": {},
   "outputs": [],
   "source": [
    "# Prediction\n",
    "leaderboard_data = pd.read_csv(\"checkworthiness_leaderboard.csv\")\n",
    "X_leaderboard = vectorizer.transform(leaderboard_data['Text'])\n",
    "predictions = clf.predict(X_leaderboard)\n",
    "\n"
   ]
  },
  {
   "cell_type": "code",
   "execution_count": null,
   "id": "43e33fb5",
   "metadata": {},
   "outputs": [],
   "source": []
  },
  {
   "cell_type": "code",
   "execution_count": 34,
   "id": "09d5c3fd",
   "metadata": {},
   "outputs": [],
   "source": [
    "# Save predictions to 'sub.csv'\n",
    "submission_data = pd.DataFrame({\"ID\": predict_data[\"ID\"], \"Category\": predictions})\n",
    "submission_data.to_csv(\"submission.csv\", index=False)"
   ]
  },
  {
   "cell_type": "code",
   "execution_count": null,
   "id": "c68c4ddb",
   "metadata": {},
   "outputs": [],
   "source": []
  },
  {
   "cell_type": "code",
   "execution_count": 50,
   "id": "b5381a4b",
   "metadata": {},
   "outputs": [
    {
     "data": {
      "text/plain": [
       "1467"
      ]
     },
     "execution_count": 50,
     "metadata": {},
     "output_type": "execute_result"
    }
   ],
   "source": [
    "submission.shape[0]"
   ]
  },
  {
   "cell_type": "code",
   "execution_count": null,
   "id": "9fbd6e3a",
   "metadata": {},
   "outputs": [],
   "source": []
  },
  {
   "cell_type": "code",
   "execution_count": null,
   "id": "18f7d72f",
   "metadata": {},
   "outputs": [],
   "source": []
  },
  {
   "cell_type": "code",
   "execution_count": null,
   "id": "2680f18e",
   "metadata": {},
   "outputs": [],
   "source": []
  },
  {
   "cell_type": "code",
   "execution_count": null,
   "id": "9b14911e",
   "metadata": {},
   "outputs": [],
   "source": []
  },
  {
   "cell_type": "code",
   "execution_count": null,
   "id": "897873eb",
   "metadata": {},
   "outputs": [],
   "source": []
  },
  {
   "cell_type": "code",
   "execution_count": null,
   "id": "9e35494d",
   "metadata": {},
   "outputs": [],
   "source": []
  }
 ],
 "metadata": {
  "kernelspec": {
   "display_name": "Python 3 (ipykernel)",
   "language": "python",
   "name": "python3"
  },
  "language_info": {
   "codemirror_mode": {
    "name": "ipython",
    "version": 3
   },
   "file_extension": ".py",
   "mimetype": "text/x-python",
   "name": "python",
   "nbconvert_exporter": "python",
   "pygments_lexer": "ipython3",
   "version": "3.11.4"
  }
 },
 "nbformat": 4,
 "nbformat_minor": 5
}
